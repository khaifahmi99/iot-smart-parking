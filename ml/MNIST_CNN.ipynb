{
  "nbformat": 4,
  "nbformat_minor": 0,
  "metadata": {
    "colab": {
      "name": "MNIST-CNN.ipynb",
      "provenance": [],
      "collapsed_sections": []
    },
    "kernelspec": {
      "name": "python3",
      "display_name": "Python 3"
    }
  },
  "cells": [
    {
      "cell_type": "code",
      "metadata": {
        "id": "M90GFtyOtFlF",
        "colab_type": "code",
        "colab": {}
      },
      "source": [
        "# import all modules needed\n",
        "from keras.datasets import mnist\n",
        "import matplotlib.pyplot as plt\n",
        "import seaborn as sns\n",
        "import numpy as np\n",
        "import pandas as pd\n",
        "\n",
        "%matplotlib inline"
      ],
      "execution_count": 0,
      "outputs": []
    },
    {
      "cell_type": "code",
      "metadata": {
        "id": "CsHfwhKUtPqK",
        "colab_type": "code",
        "outputId": "541a2c19-009e-4af1-a93c-b327f0b7be18",
        "colab": {
          "base_uri": "https://localhost:8080/",
          "height": 85
        }
      },
      "source": [
        "# grab train and test data from mnist dataset\n",
        "(train_X, train_y), (test_X, test_y) = mnist.load_data()\n",
        "\n",
        "# checkout the dataset dimension\n",
        "print('train X shape:', train_X.shape)\n",
        "print('test X shape:', test_X.shape)\n",
        "print('train y shape:', train_y.shape)\n",
        "print('test y shape:', test_y.shape)"
      ],
      "execution_count": 24,
      "outputs": [
        {
          "output_type": "stream",
          "text": [
            "train X shape: (60000, 28, 28)\n",
            "test X shape: (10000, 28, 28)\n",
            "train y shape: (60000,)\n",
            "test y shape: (10000,)\n"
          ],
          "name": "stdout"
        }
      ]
    },
    {
      "cell_type": "code",
      "metadata": {
        "id": "7D-I64Vxtik6",
        "colab_type": "code",
        "outputId": "a4b64580-b242-4345-f06c-cd4934331a8a",
        "colab": {
          "base_uri": "https://localhost:8080/",
          "height": 282
        }
      },
      "source": [
        "# look into one of the dataset and corresponding label\n",
        "plt.imshow(train_X[0], cmap=plt.get_cmap('gray'))\n",
        "print('Label: ', train_y[0])"
      ],
      "execution_count": 25,
      "outputs": [
        {
          "output_type": "stream",
          "text": [
            "Label:  5\n"
          ],
          "name": "stdout"
        },
        {
          "output_type": "display_data",
          "data": {
            "image/png": "[encoded data removed]",
            "text/plain": [
              "<Figure size 432x288 with 1 Axes>"
            ]
          },
          "metadata": {
            "tags": [],
            "needs_background": "light"
          }
        }
      ]
    },
    {
      "cell_type": "code",
      "metadata": {
        "id": "s2KIRC5ltpOG",
        "colab_type": "code",
        "outputId": "24d5e723-45f9-414a-b302-e8b63b17b762",
        "colab": {
          "base_uri": "https://localhost:8080/",
          "height": 34
        }
      },
      "source": [
        "# reshape the shape of trainX and testX to fit in the model\n",
        "# 28x28 for the width x height of pic\n",
        "# 1 color channel (greyscale)\n",
        "train_X = train_X.reshape((train_X.shape[0], 28, 28, 1))\n",
        "test_X = test_X.reshape((test_X.shape[0], 28, 28, 1))\n",
        "\n",
        "# Dimension of trainX after reshape\n",
        "print(train_X.shape)"
      ],
      "execution_count": 26,
      "outputs": [
        {
          "output_type": "stream",
          "text": [
            "(60000, 28, 28, 1)\n"
          ],
          "name": "stdout"
        }
      ]
    },
    {
      "cell_type": "code",
      "metadata": {
        "id": "VpcdAFEFuwym",
        "colab_type": "code",
        "colab": {}
      },
      "source": [
        "from keras.utils import to_categorical\n",
        "\n",
        "# convert label to one-hot encoding\n",
        "# array of length 10 (10 labels)\n",
        "train_y = to_categorical(train_y)\n",
        "test_y = to_categorical(test_y)"
      ],
      "execution_count": 0,
      "outputs": []
    },
    {
      "cell_type": "code",
      "metadata": {
        "id": "DTJXGDQIu79E",
        "colab_type": "code",
        "colab": {}
      },
      "source": [
        "# normalize data from 0-255 to 0-1\n",
        "# speed up the training process\n",
        "train_X = train_X.astype('float32') / 255\n",
        "test_X = test_X.astype('float32') / 255"
      ],
      "execution_count": 0,
      "outputs": []
    },
    {
      "cell_type": "code",
      "metadata": {
        "id": "-zhquOQnvdk8",
        "colab_type": "code",
        "outputId": "5ef55560-3a32-41f8-fd96-1004e416b41a",
        "colab": {
          "base_uri": "https://localhost:8080/",
          "height": 323
        }
      },
      "source": [
        "from keras.models import Sequential\n",
        "from keras.layers import Conv2D, MaxPooling2D, Flatten, Dense\n",
        "from keras.optimizers import Adam\n",
        "\n",
        "# define model\n",
        "model = Sequential()\n",
        "model.add(Conv2D(32, (3, 3), activation='relu', input_shape=(28, 28, 1)))\n",
        "model.add(MaxPooling2D((2, 2)))\n",
        "model.add(Flatten())\n",
        "model.add(Dense(128, activation='relu'))\n",
        "model.add(Dense(10, activation='softmax'))\n",
        "\n",
        "optimizer = Adam(lr=0.0001)\n",
        "\n",
        "model.compile(optimizer=optimizer, loss='categorical_crossentropy', metrics=['accuracy'])\n",
        "model.summary()"
      ],
      "execution_count": 30,
      "outputs": [
        {
          "output_type": "stream",
          "text": [
            "Model: \"sequential_3\"\n",
            "_________________________________________________________________\n",
            "Layer (type)                 Output Shape              Param #   \n",
            "=================================================================\n",
            "conv2d_3 (Conv2D)            (None, 26, 26, 32)        320       \n",
            "_________________________________________________________________\n",
            "max_pooling2d_3 (MaxPooling2 (None, 13, 13, 32)        0         \n",
            "_________________________________________________________________\n",
            "flatten_3 (Flatten)          (None, 5408)              0         \n",
            "_________________________________________________________________\n",
            "dense_5 (Dense)              (None, 128)               692352    \n",
            "_________________________________________________________________\n",
            "dense_6 (Dense)              (None, 10)                1290      \n",
            "=================================================================\n",
            "Total params: 693,962\n",
            "Trainable params: 693,962\n",
            "Non-trainable params: 0\n",
            "_________________________________________________________________\n"
          ],
          "name": "stdout"
        }
      ]
    },
    {
      "cell_type": "code",
      "metadata": {
        "id": "3e9J_u0JxJZ-",
        "colab_type": "code",
        "outputId": "45044a52-8087-4613-d66c-f93052da5950",
        "colab": {
          "base_uri": "https://localhost:8080/",
          "height": 391
        }
      },
      "source": [
        "# train model with 0.3 split for validation\n",
        "model.fit(train_X, train_y, epochs=10, validation_split=0.3)"
      ],
      "execution_count": 31,
      "outputs": [
        {
          "output_type": "stream",
          "text": [
            "Train on 42000 samples, validate on 18000 samples\n",
            "Epoch 1/10\n",
            "42000/42000 [==============================] - 28s 664us/step - loss: 0.4425 - accuracy: 0.8899 - val_loss: 0.2240 - val_accuracy: 0.9364\n",
            "Epoch 2/10\n",
            "42000/42000 [==============================] - 28s 655us/step - loss: 0.1834 - accuracy: 0.9468 - val_loss: 0.1546 - val_accuracy: 0.9562\n",
            "Epoch 3/10\n",
            "42000/42000 [==============================] - 28s 655us/step - loss: 0.1312 - accuracy: 0.9633 - val_loss: 0.1240 - val_accuracy: 0.9651\n",
            "Epoch 4/10\n",
            "42000/42000 [==============================] - 28s 658us/step - loss: 0.1012 - accuracy: 0.9719 - val_loss: 0.1084 - val_accuracy: 0.9695\n",
            "Epoch 5/10\n",
            "42000/42000 [==============================] - 28s 663us/step - loss: 0.0832 - accuracy: 0.9765 - val_loss: 0.0928 - val_accuracy: 0.9736\n",
            "Epoch 6/10\n",
            "42000/42000 [==============================] - 28s 661us/step - loss: 0.0695 - accuracy: 0.9806 - val_loss: 0.0855 - val_accuracy: 0.9752\n",
            "Epoch 7/10\n",
            "42000/42000 [==============================] - 28s 663us/step - loss: 0.0602 - accuracy: 0.9836 - val_loss: 0.0747 - val_accuracy: 0.9787\n",
            "Epoch 8/10\n",
            "42000/42000 [==============================] - 28s 657us/step - loss: 0.0525 - accuracy: 0.9857 - val_loss: 0.0842 - val_accuracy: 0.9753\n",
            "Epoch 9/10\n",
            "42000/42000 [==============================] - 28s 658us/step - loss: 0.0469 - accuracy: 0.9870 - val_loss: 0.0688 - val_accuracy: 0.9798\n",
            "Epoch 10/10\n",
            "42000/42000 [==============================] - 28s 658us/step - loss: 0.0411 - accuracy: 0.9887 - val_loss: 0.0661 - val_accuracy: 0.9811\n"
          ],
          "name": "stdout"
        },
        {
          "output_type": "execute_result",
          "data": {
            "text/plain": [
              "<keras.callbacks.callbacks.History at 0x7f059055b0b8>"
            ]
          },
          "metadata": {
            "tags": []
          },
          "execution_count": 31
        }
      ]
    },
    {
      "cell_type": "code",
      "metadata": {
        "id": "Eknzc6KUyF7f",
        "colab_type": "code",
        "outputId": "2327330c-04ac-46d5-b78a-9959c4854fa8",
        "colab": {
          "base_uri": "https://localhost:8080/",
          "height": 621
        }
      },
      "source": [
        "epochs = [i for i in range(10)]\n",
        "fig , ax = plt.subplots(1,2)\n",
        "train_acc = model.history.history['accuracy']\n",
        "train_loss = model.history.history['loss']\n",
        "val_acc = model.history.history['val_accuracy']\n",
        "val_loss = model.history.history['val_loss']\n",
        "fig.set_size_inches(20,10)\n",
        "\n",
        "# plot the model training and testing accuracy in each epoch\n",
        "ax[0].plot(epochs , train_acc , 'go-' , label = 'Training Accuracy')\n",
        "ax[0].plot(epochs , val_acc , 'ro-' , label = 'Testing Accuracy')\n",
        "ax[0].set_title('Training & Validation Accuracy')\n",
        "ax[0].legend()\n",
        "ax[0].set_xlabel(\"Epochs\")\n",
        "ax[0].set_ylabel(\"Accuracy\")\n",
        "\n",
        "# plot the model training and testing loss in each epoch\n",
        "ax[1].plot(epochs , train_loss , 'g-o' , label = 'Training Loss')\n",
        "ax[1].plot(epochs , val_loss , 'r-o' , label = 'Testing Loss')\n",
        "ax[1].set_title('Testing Accuracy & Loss')\n",
        "ax[1].legend()\n",
        "ax[1].set_xlabel(\"Epochs\")\n",
        "ax[1].set_ylabel(\"Loss\")\n",
        "plt.show()"
      ],
      "execution_count": 32,
      "outputs": [
        {
          "output_type": "display_data",
          "data": {
            "image/png": "[encoded data removed]",
            "text/plain": [
              "<Figure size 1440x720 with 2 Axes>"
            ]
          },
          "metadata": {
            "tags": [],
            "needs_background": "light"
          }
        }
      ]
    },
    {
      "cell_type": "code",
      "metadata": {
        "id": "_XQTcdbUyPR_",
        "colab_type": "code",
        "colab": {
          "base_uri": "https://localhost:8080/",
          "height": 85
        },
        "outputId": "2d4f6781-2c19-454a-b3be-180f5746c2db"
      },
      "source": [
        "# Evaluate model on testing dataset\n",
        "print(\"Loss of the model is - \" , model.evaluate(test_X, test_y)[0] , \"%\")\n",
        "print(\"Accuracy of the model is - \" , model.evaluate(test_X, test_y)[1]*100 , \"%\")"
      ],
      "execution_count": 33,
      "outputs": [
        {
          "output_type": "stream",
          "text": [
            "10000/10000 [==============================] - 2s 164us/step\n",
            "Loss of the model is -  0.057189586914516984 %\n",
            "10000/10000 [==============================] - 2s 164us/step\n",
            "Accuracy of the model is -  98.12999963760376 %\n"
          ],
          "name": "stdout"
        }
      ]
    },
    {
      "cell_type": "code",
      "metadata": {
        "id": "oeqqvJNpobSb",
        "colab_type": "code",
        "colab": {}
      },
      "source": [
        "# convert one-hot encoding to label\n",
        "class_y = [np.argmax(y, axis=None, out=None) for y in test_y]"
      ],
      "execution_count": 0,
      "outputs": []
    },
    {
      "cell_type": "code",
      "metadata": {
        "id": "hoCtHtIPybdD",
        "colab_type": "code",
        "outputId": "17599e91-af34-401b-9d53-1c0da18305a4",
        "colab": {
          "base_uri": "https://localhost:8080/",
          "height": 187
        }
      },
      "source": [
        "from sklearn.metrics import confusion_matrix\n",
        "\n",
        "# confusion matrix to show the models prediction against true label\n",
        "cm = confusion_matrix(class_y, model.predict_classes(test_X))\n",
        "cm"
      ],
      "execution_count": 44,
      "outputs": [
        {
          "output_type": "execute_result",
          "data": {
            "text/plain": [
              "array([[ 970,    0,    0,    0,    1,    1,    3,    3,    2,    0],\n",
              "       [   0, 1129,    2,    0,    0,    0,    2,    1,    1,    0],\n",
              "       [   3,    6, 1012,    0,    2,    0,    2,    7,    0,    0],\n",
              "       [   0,    0,    0,  999,    0,    2,    0,    7,    2,    0],\n",
              "       [   0,    0,    1,    0,  974,    0,    0,    0,    1,    6],\n",
              "       [   2,    0,    0,    6,    0,  875,    5,    0,    3,    1],\n",
              "       [   8,    3,    1,    0,    2,    3,  937,    1,    3,    0],\n",
              "       [   0,    2,    8,    1,    0,    0,    0, 1014,    1,    2],\n",
              "       [   6,    1,    9,    5,    1,    3,    1,   10,  930,    8],\n",
              "       [   4,    4,    1,    4,    9,    0,    0,   14,    0,  973]])"
            ]
          },
          "metadata": {
            "tags": []
          },
          "execution_count": 44
        }
      ]
    },
    {
      "cell_type": "code",
      "metadata": {
        "id": "GWdHqsGhyiWy",
        "colab_type": "code",
        "colab": {}
      },
      "source": [
        ""
      ],
      "execution_count": 0,
      "outputs": []
    }
  ]
}