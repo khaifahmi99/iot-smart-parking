{
 "cells": [
  {
   "cell_type": "code",
   "execution_count": 76,
   "metadata": {},
   "outputs": [],
   "source": [
    "import numpy as np\n",
    "import pandas as pd\n",
    "import matplotlib.pyplot as plt\n",
    "import seaborn as sns\n",
    "\n",
    "%matplotlib inline"
   ]
  },
  {
   "cell_type": "code",
   "execution_count": 77,
   "metadata": {},
   "outputs": [],
   "source": [
    "import json\n",
    "import requests\n",
    "\n",
    "# using the API endpoint to get the user data in DynamoDB\n",
    "URL = 'https://smart-parking-iotprogramming.herokuapp.com/api/users'\n",
    "obj = requests.get(URL).json()\n",
    "users = obj['users']"
   ]
  },
  {
   "cell_type": "code",
   "execution_count": 78,
   "metadata": {},
   "outputs": [
    {
     "data": {
      "text/html": [
       "<div>\n",
       "<style scoped>\n",
       "    .dataframe tbody tr th:only-of-type {\n",
       "        vertical-align: middle;\n",
       "    }\n",
       "\n",
       "    .dataframe tbody tr th {\n",
       "        vertical-align: top;\n",
       "    }\n",
       "\n",
       "    .dataframe thead th {\n",
       "        text-align: right;\n",
       "    }\n",
       "</style>\n",
       "<table border=\"1\" class=\"dataframe\">\n",
       "  <thead>\n",
       "    <tr style=\"text-align: right;\">\n",
       "      <th></th>\n",
       "      <th>user_id</th>\n",
       "      <th>ts</th>\n",
       "      <th>user_fee</th>\n",
       "    </tr>\n",
       "  </thead>\n",
       "  <tbody>\n",
       "    <tr>\n",
       "      <th>0</th>\n",
       "      <td>896.0</td>\n",
       "      <td>2020-05-26 14:48:10.734</td>\n",
       "      <td>24</td>\n",
       "    </tr>\n",
       "    <tr>\n",
       "      <th>1</th>\n",
       "      <td>3396.0</td>\n",
       "      <td>2020-05-29 15:34:04</td>\n",
       "      <td>15</td>\n",
       "    </tr>\n",
       "    <tr>\n",
       "      <th>2</th>\n",
       "      <td>5619.0</td>\n",
       "      <td>2020-06-01 11:13:56</td>\n",
       "      <td>14</td>\n",
       "    </tr>\n",
       "    <tr>\n",
       "      <th>3</th>\n",
       "      <td>123.0</td>\n",
       "      <td>2020-05-27 17:19:41</td>\n",
       "      <td>20</td>\n",
       "    </tr>\n",
       "    <tr>\n",
       "      <th>4</th>\n",
       "      <td>6454.0</td>\n",
       "      <td>2020-05-26 13:37:36.258</td>\n",
       "      <td>22</td>\n",
       "    </tr>\n",
       "    <tr>\n",
       "      <th>5</th>\n",
       "      <td>4730.0</td>\n",
       "      <td>2020-05-25 12:11:51.264</td>\n",
       "      <td>17</td>\n",
       "    </tr>\n",
       "    <tr>\n",
       "      <th>6</th>\n",
       "      <td>987.0</td>\n",
       "      <td>2020-05-28 15:06:08</td>\n",
       "      <td>15</td>\n",
       "    </tr>\n",
       "    <tr>\n",
       "      <th>7</th>\n",
       "      <td>2952.0</td>\n",
       "      <td>2020-06-01 09:17:16</td>\n",
       "      <td>28</td>\n",
       "    </tr>\n",
       "    <tr>\n",
       "      <th>8</th>\n",
       "      <td>1102.0</td>\n",
       "      <td>2020-06-01 13:58:41.45</td>\n",
       "      <td>22</td>\n",
       "    </tr>\n",
       "    <tr>\n",
       "      <th>9</th>\n",
       "      <td>2934.0</td>\n",
       "      <td>2020-05-30 13:00:15.988</td>\n",
       "      <td>10</td>\n",
       "    </tr>\n",
       "    <tr>\n",
       "      <th>10</th>\n",
       "      <td>14623.0</td>\n",
       "      <td>2020-06-01 13:11:09.434</td>\n",
       "      <td>28</td>\n",
       "    </tr>\n",
       "    <tr>\n",
       "      <th>11</th>\n",
       "      <td>2369.0</td>\n",
       "      <td>2020-06-01 10:49:06</td>\n",
       "      <td>28</td>\n",
       "    </tr>\n",
       "    <tr>\n",
       "      <th>12</th>\n",
       "      <td>11041.0</td>\n",
       "      <td>2020-05-25 14:46:54.422</td>\n",
       "      <td>15</td>\n",
       "    </tr>\n",
       "    <tr>\n",
       "      <th>13</th>\n",
       "      <td>107.0</td>\n",
       "      <td>2020-05-26 12:15:01.558</td>\n",
       "      <td>15</td>\n",
       "    </tr>\n",
       "    <tr>\n",
       "      <th>14</th>\n",
       "      <td>8949.0</td>\n",
       "      <td>2020-05-26 13:45:31.946</td>\n",
       "      <td>22</td>\n",
       "    </tr>\n",
       "  </tbody>\n",
       "</table>\n",
       "</div>"
      ],
      "text/plain": [
       "    user_id                       ts user_fee\n",
       "0     896.0  2020-05-26 14:48:10.734       24\n",
       "1    3396.0      2020-05-29 15:34:04       15\n",
       "2    5619.0      2020-06-01 11:13:56       14\n",
       "3     123.0      2020-05-27 17:19:41       20\n",
       "4    6454.0  2020-05-26 13:37:36.258       22\n",
       "5    4730.0  2020-05-25 12:11:51.264       17\n",
       "6     987.0      2020-05-28 15:06:08       15\n",
       "7    2952.0      2020-06-01 09:17:16       28\n",
       "8    1102.0   2020-06-01 13:58:41.45       22\n",
       "9    2934.0  2020-05-30 13:00:15.988       10\n",
       "10  14623.0  2020-06-01 13:11:09.434       28\n",
       "11   2369.0      2020-06-01 10:49:06       28\n",
       "12  11041.0  2020-05-25 14:46:54.422       15\n",
       "13    107.0  2020-05-26 12:15:01.558       15\n",
       "14   8949.0  2020-05-26 13:45:31.946       22"
      ]
     },
     "execution_count": 78,
     "metadata": {},
     "output_type": "execute_result"
    }
   ],
   "source": [
    "# convert the json to DataFrame\n",
    "raw_df = pd.DataFrame(columns=['user_id', 'ts', 'user_fee'])\n",
    "for user in users:\n",
    "    obj = {\n",
    "        'user_id': user['user_id'],\n",
    "        'ts': user['ts_payment'],\n",
    "        'user_fee': user['user_fee']\n",
    "    }\n",
    "    raw_df = raw_df.append(obj, ignore_index=True)\n",
    "    \n",
    "raw_df"
   ]
  },
  {
   "cell_type": "code",
   "execution_count": 79,
   "metadata": {},
   "outputs": [
    {
     "data": {
      "text/plain": [
       "user_id            float64\n",
       "ts          datetime64[ns]\n",
       "user_fee           float64\n",
       "dtype: object"
      ]
     },
     "execution_count": 79,
     "metadata": {},
     "output_type": "execute_result"
    }
   ],
   "source": [
    "# Convert the datatypes accordingly\n",
    "# set the date to datetime format\n",
    "raw_df['user_fee'] = raw_df['user_fee'].astype('float64')\n",
    "raw_df['ts'] = pd.to_datetime(raw_df['ts'])\n",
    "raw_df.dtypes"
   ]
  },
  {
   "cell_type": "code",
   "execution_count": 80,
   "metadata": {},
   "outputs": [
    {
     "data": {
      "text/html": [
       "<div>\n",
       "<style scoped>\n",
       "    .dataframe tbody tr th:only-of-type {\n",
       "        vertical-align: middle;\n",
       "    }\n",
       "\n",
       "    .dataframe tbody tr th {\n",
       "        vertical-align: top;\n",
       "    }\n",
       "\n",
       "    .dataframe thead th {\n",
       "        text-align: right;\n",
       "    }\n",
       "</style>\n",
       "<table border=\"1\" class=\"dataframe\">\n",
       "  <thead>\n",
       "    <tr style=\"text-align: right;\">\n",
       "      <th></th>\n",
       "      <th>ts</th>\n",
       "      <th>user_fee</th>\n",
       "      <th>total_user</th>\n",
       "    </tr>\n",
       "  </thead>\n",
       "  <tbody>\n",
       "    <tr>\n",
       "      <th>0</th>\n",
       "      <td>2020-05-25</td>\n",
       "      <td>16.00</td>\n",
       "      <td>2</td>\n",
       "    </tr>\n",
       "    <tr>\n",
       "      <th>1</th>\n",
       "      <td>2020-05-26</td>\n",
       "      <td>20.75</td>\n",
       "      <td>4</td>\n",
       "    </tr>\n",
       "    <tr>\n",
       "      <th>2</th>\n",
       "      <td>2020-05-27</td>\n",
       "      <td>20.00</td>\n",
       "      <td>1</td>\n",
       "    </tr>\n",
       "    <tr>\n",
       "      <th>3</th>\n",
       "      <td>2020-05-28</td>\n",
       "      <td>15.00</td>\n",
       "      <td>1</td>\n",
       "    </tr>\n",
       "    <tr>\n",
       "      <th>4</th>\n",
       "      <td>2020-05-29</td>\n",
       "      <td>15.00</td>\n",
       "      <td>1</td>\n",
       "    </tr>\n",
       "    <tr>\n",
       "      <th>5</th>\n",
       "      <td>2020-05-30</td>\n",
       "      <td>10.00</td>\n",
       "      <td>1</td>\n",
       "    </tr>\n",
       "    <tr>\n",
       "      <th>6</th>\n",
       "      <td>2020-06-01</td>\n",
       "      <td>24.00</td>\n",
       "      <td>5</td>\n",
       "    </tr>\n",
       "  </tbody>\n",
       "</table>\n",
       "</div>"
      ],
      "text/plain": [
       "           ts  user_fee total_user\n",
       "0  2020-05-25     16.00          2\n",
       "1  2020-05-26     20.75          4\n",
       "2  2020-05-27     20.00          1\n",
       "3  2020-05-28     15.00          1\n",
       "4  2020-05-29     15.00          1\n",
       "5  2020-05-30     10.00          1\n",
       "6  2020-06-01     24.00          5"
      ]
     },
     "execution_count": 80,
     "metadata": {},
     "output_type": "execute_result"
    }
   ],
   "source": [
    "# group the data based on the day\n",
    "g = raw_df.groupby(raw_df['ts'].dt.date)\n",
    "tdf = pd.DataFrame(columns=['ts', 'user_fee', 'total_user'])\n",
    "\n",
    "# create a new dataset that contains the day, average user fee and total user\n",
    "for k in g.groups.keys():\n",
    "    tdf = tdf.append({\n",
    "        'ts': k,\n",
    "        'user_fee': g.get_group(k).mean()['user_fee'],\n",
    "        'total_user': g.get_group(k).count()['user_id']\n",
    "    }, ignore_index=True)\n",
    "tdf"
   ]
  },
  {
   "cell_type": "code",
   "execution_count": 81,
   "metadata": {},
   "outputs": [
    {
     "data": {
      "text/plain": [
       "<matplotlib.axes._subplots.AxesSubplot at 0x11e588290>"
      ]
     },
     "execution_count": 81,
     "metadata": {},
     "output_type": "execute_result"
    },
    {
     "data": {
      "image/png": "[encoded data removed]",
      "text/plain": [
       "<Figure size 432x288 with 1 Axes>"
      ]
     },
     "metadata": {
      "needs_background": "light"
     },
     "output_type": "display_data"
    }
   ],
   "source": [
    "# plot the dataframe\n",
    "sns.scatterplot(data=tdf, x='total_user', y='user_fee')"
   ]
  },
  {
   "cell_type": "code",
   "execution_count": 109,
   "metadata": {},
   "outputs": [],
   "source": [
    "# define the X and Y\n",
    "X = tdf['total_user'].values.reshape(-1,1)\n",
    "y = tdf['user_fee']"
   ]
  },
  {
   "cell_type": "code",
   "execution_count": 113,
   "metadata": {},
   "outputs": [
    {
     "data": {
      "text/plain": [
       "LinearRegression(copy_X=True, fit_intercept=True, n_jobs=None, normalize=False)"
      ]
     },
     "execution_count": 113,
     "metadata": {},
     "output_type": "execute_result"
    }
   ],
   "source": [
    "from sklearn.linear_model import LinearRegression\n",
    "\n",
    "# train the linear model\n",
    "model = LinearRegression()\n",
    "model.fit(X, y)"
   ]
  },
  {
   "cell_type": "code",
   "execution_count": 114,
   "metadata": {},
   "outputs": [
    {
     "data": {
      "text/plain": [
       "[<matplotlib.lines.Line2D at 0x11f940ad0>]"
      ]
     },
     "execution_count": 114,
     "metadata": {},
     "output_type": "execute_result"
    },
    {
     "data": {
      "image/png": "[encoded data removed]",
      "text/plain": [
       "<Figure size 432x288 with 1 Axes>"
      ]
     },
     "metadata": {
      "needs_background": "light"
     },
     "output_type": "display_data"
    }
   ],
   "source": [
    "# plot the actual data and the prediction\n",
    "plt.scatter(X, y)\n",
    "test_X = np.array(list(range(1, 15)))\n",
    "test_X = test_X.reshape(-1, 1)\n",
    "plt.plot(test_X, model.predict(test_X),color='k')"
   ]
  },
  {
   "cell_type": "code",
   "execution_count": null,
   "metadata": {},
   "outputs": [],
   "source": []
  }
 ],
 "metadata": {
  "kernelspec": {
   "display_name": "Python 3",
   "language": "python",
   "name": "python3"
  },
  "language_info": {
   "codemirror_mode": {
    "name": "ipython",
    "version": 3
   },
   "file_extension": ".py",
   "mimetype": "text/x-python",
   "name": "python",
   "nbconvert_exporter": "python",
   "pygments_lexer": "ipython3",
   "version": "3.7.6"
  }
 },
 "nbformat": 4,
 "nbformat_minor": 2
}
