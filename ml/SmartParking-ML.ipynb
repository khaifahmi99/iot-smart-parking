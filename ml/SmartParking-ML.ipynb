{
 "cells": [
  {
   "cell_type": "code",
   "execution_count": 1,
   "metadata": {},
   "outputs": [],
   "source": [
    "import numpy as np\n",
    "import pandas as pd\n",
    "import matplotlib.pyplot as plt\n",
    "import seaborn as sns\n",
    "\n",
    "%matplotlib inline"
   ]
  },
  {
   "cell_type": "code",
   "execution_count": 2,
   "metadata": {},
   "outputs": [],
   "source": [
    "import json\n",
    "import requests\n",
    "\n",
    "# using the API endpoint to get the user data in DynamoDB\n",
    "URL = 'https://smart-parking-iotprogramming.herokuapp.com/api/users'\n",
    "obj = requests.get(URL).json()\n",
    "users = obj['users']"
   ]
  },
  {
   "cell_type": "code",
   "execution_count": 3,
   "metadata": {},
   "outputs": [
    {
     "data": {
      "text/html": [
       "<div>\n",
       "<style scoped>\n",
       "    .dataframe tbody tr th:only-of-type {\n",
       "        vertical-align: middle;\n",
       "    }\n",
       "\n",
       "    .dataframe tbody tr th {\n",
       "        vertical-align: top;\n",
       "    }\n",
       "\n",
       "    .dataframe thead th {\n",
       "        text-align: right;\n",
       "    }\n",
       "</style>\n",
       "<table border=\"1\" class=\"dataframe\">\n",
       "  <thead>\n",
       "    <tr style=\"text-align: right;\">\n",
       "      <th></th>\n",
       "      <th>user_id</th>\n",
       "      <th>ts</th>\n",
       "      <th>user_fee</th>\n",
       "    </tr>\n",
       "  </thead>\n",
       "  <tbody>\n",
       "    <tr>\n",
       "      <th>0</th>\n",
       "      <td>896.0</td>\n",
       "      <td>2020-05-26 14:48:10.734</td>\n",
       "      <td>24</td>\n",
       "    </tr>\n",
       "    <tr>\n",
       "      <th>1</th>\n",
       "      <td>3396.0</td>\n",
       "      <td>2020-05-29 15:34:04</td>\n",
       "      <td>15</td>\n",
       "    </tr>\n",
       "    <tr>\n",
       "      <th>2</th>\n",
       "      <td>1710.0</td>\n",
       "      <td>2020-06-02 03:24:00</td>\n",
       "      <td>21</td>\n",
       "    </tr>\n",
       "    <tr>\n",
       "      <th>3</th>\n",
       "      <td>96.0</td>\n",
       "      <td>2020-06-01 14:42:37.218</td>\n",
       "      <td>31.5</td>\n",
       "    </tr>\n",
       "    <tr>\n",
       "      <th>4</th>\n",
       "      <td>123.0</td>\n",
       "      <td>2020-05-27 17:19:41</td>\n",
       "      <td>20</td>\n",
       "    </tr>\n",
       "    <tr>\n",
       "      <th>5</th>\n",
       "      <td>6454.0</td>\n",
       "      <td>2020-05-26 13:37:36.258</td>\n",
       "      <td>22</td>\n",
       "    </tr>\n",
       "    <tr>\n",
       "      <th>6</th>\n",
       "      <td>4730.0</td>\n",
       "      <td>2020-05-25 12:11:51.264</td>\n",
       "      <td>17</td>\n",
       "    </tr>\n",
       "    <tr>\n",
       "      <th>7</th>\n",
       "      <td>987.0</td>\n",
       "      <td>2020-05-28 15:06:08</td>\n",
       "      <td>15</td>\n",
       "    </tr>\n",
       "    <tr>\n",
       "      <th>8</th>\n",
       "      <td>1915.0</td>\n",
       "      <td>2020-06-02 12:23:33</td>\n",
       "      <td>21</td>\n",
       "    </tr>\n",
       "    <tr>\n",
       "      <th>9</th>\n",
       "      <td>1102.0</td>\n",
       "      <td>2020-06-01 13:58:41.45</td>\n",
       "      <td>22</td>\n",
       "    </tr>\n",
       "    <tr>\n",
       "      <th>10</th>\n",
       "      <td>2934.0</td>\n",
       "      <td>2020-05-30 13:00:15.988</td>\n",
       "      <td>10</td>\n",
       "    </tr>\n",
       "    <tr>\n",
       "      <th>11</th>\n",
       "      <td>14623.0</td>\n",
       "      <td>2020-06-01 13:11:09.434</td>\n",
       "      <td>28</td>\n",
       "    </tr>\n",
       "    <tr>\n",
       "      <th>12</th>\n",
       "      <td>11041.0</td>\n",
       "      <td>2020-05-25 14:46:54.422</td>\n",
       "      <td>15</td>\n",
       "    </tr>\n",
       "    <tr>\n",
       "      <th>13</th>\n",
       "      <td>107.0</td>\n",
       "      <td>2020-05-26 12:15:01.558</td>\n",
       "      <td>15</td>\n",
       "    </tr>\n",
       "    <tr>\n",
       "      <th>14</th>\n",
       "      <td>8949.0</td>\n",
       "      <td>2020-05-26 13:45:31.946</td>\n",
       "      <td>22</td>\n",
       "    </tr>\n",
       "    <tr>\n",
       "      <th>15</th>\n",
       "      <td>1832.0</td>\n",
       "      <td>2020-06-02 10:39:38</td>\n",
       "      <td>21</td>\n",
       "    </tr>\n",
       "  </tbody>\n",
       "</table>\n",
       "</div>"
      ],
      "text/plain": [
       "    user_id                       ts user_fee\n",
       "0     896.0  2020-05-26 14:48:10.734       24\n",
       "1    3396.0      2020-05-29 15:34:04       15\n",
       "2    1710.0      2020-06-02 03:24:00       21\n",
       "3      96.0  2020-06-01 14:42:37.218     31.5\n",
       "4     123.0      2020-05-27 17:19:41       20\n",
       "5    6454.0  2020-05-26 13:37:36.258       22\n",
       "6    4730.0  2020-05-25 12:11:51.264       17\n",
       "7     987.0      2020-05-28 15:06:08       15\n",
       "8    1915.0      2020-06-02 12:23:33       21\n",
       "9    1102.0   2020-06-01 13:58:41.45       22\n",
       "10   2934.0  2020-05-30 13:00:15.988       10\n",
       "11  14623.0  2020-06-01 13:11:09.434       28\n",
       "12  11041.0  2020-05-25 14:46:54.422       15\n",
       "13    107.0  2020-05-26 12:15:01.558       15\n",
       "14   8949.0  2020-05-26 13:45:31.946       22\n",
       "15   1832.0      2020-06-02 10:39:38       21"
      ]
     },
     "execution_count": 3,
     "metadata": {},
     "output_type": "execute_result"
    }
   ],
   "source": [
    "# convert the json to DataFrame\n",
    "raw_df = pd.DataFrame(columns=['user_id', 'ts', 'user_fee'])\n",
    "for user in users:\n",
    "    obj = {\n",
    "        'user_id': user['user_id'],\n",
    "        'ts': user['ts_payment'],\n",
    "        'user_fee': user['user_fee']\n",
    "    }\n",
    "    raw_df = raw_df.append(obj, ignore_index=True)\n",
    "    \n",
    "raw_df"
   ]
  },
  {
   "cell_type": "code",
   "execution_count": 4,
   "metadata": {},
   "outputs": [
    {
     "data": {
      "text/plain": [
       "user_id            float64\n",
       "ts          datetime64[ns]\n",
       "user_fee           float64\n",
       "dtype: object"
      ]
     },
     "execution_count": 4,
     "metadata": {},
     "output_type": "execute_result"
    }
   ],
   "source": [
    "# Convert the datatypes accordingly\n",
    "# set the date to datetime format\n",
    "raw_df['user_fee'] = raw_df['user_fee'].astype('float64')\n",
    "raw_df['ts'] = pd.to_datetime(raw_df['ts'])\n",
    "raw_df.dtypes"
   ]
  },
  {
   "cell_type": "code",
   "execution_count": 5,
   "metadata": {},
   "outputs": [
    {
     "data": {
      "text/html": [
       "<div>\n",
       "<style scoped>\n",
       "    .dataframe tbody tr th:only-of-type {\n",
       "        vertical-align: middle;\n",
       "    }\n",
       "\n",
       "    .dataframe tbody tr th {\n",
       "        vertical-align: top;\n",
       "    }\n",
       "\n",
       "    .dataframe thead th {\n",
       "        text-align: right;\n",
       "    }\n",
       "</style>\n",
       "<table border=\"1\" class=\"dataframe\">\n",
       "  <thead>\n",
       "    <tr style=\"text-align: right;\">\n",
       "      <th></th>\n",
       "      <th>ts</th>\n",
       "      <th>user_fee</th>\n",
       "      <th>total_user</th>\n",
       "    </tr>\n",
       "  </thead>\n",
       "  <tbody>\n",
       "    <tr>\n",
       "      <th>0</th>\n",
       "      <td>2020-05-25</td>\n",
       "      <td>16.000000</td>\n",
       "      <td>2</td>\n",
       "    </tr>\n",
       "    <tr>\n",
       "      <th>1</th>\n",
       "      <td>2020-05-26</td>\n",
       "      <td>20.750000</td>\n",
       "      <td>4</td>\n",
       "    </tr>\n",
       "    <tr>\n",
       "      <th>2</th>\n",
       "      <td>2020-05-27</td>\n",
       "      <td>20.000000</td>\n",
       "      <td>1</td>\n",
       "    </tr>\n",
       "    <tr>\n",
       "      <th>3</th>\n",
       "      <td>2020-05-28</td>\n",
       "      <td>15.000000</td>\n",
       "      <td>1</td>\n",
       "    </tr>\n",
       "    <tr>\n",
       "      <th>4</th>\n",
       "      <td>2020-05-29</td>\n",
       "      <td>15.000000</td>\n",
       "      <td>1</td>\n",
       "    </tr>\n",
       "    <tr>\n",
       "      <th>5</th>\n",
       "      <td>2020-05-30</td>\n",
       "      <td>10.000000</td>\n",
       "      <td>1</td>\n",
       "    </tr>\n",
       "    <tr>\n",
       "      <th>6</th>\n",
       "      <td>2020-06-01</td>\n",
       "      <td>27.166667</td>\n",
       "      <td>3</td>\n",
       "    </tr>\n",
       "    <tr>\n",
       "      <th>7</th>\n",
       "      <td>2020-06-02</td>\n",
       "      <td>21.000000</td>\n",
       "      <td>3</td>\n",
       "    </tr>\n",
       "  </tbody>\n",
       "</table>\n",
       "</div>"
      ],
      "text/plain": [
       "           ts   user_fee total_user\n",
       "0  2020-05-25  16.000000          2\n",
       "1  2020-05-26  20.750000          4\n",
       "2  2020-05-27  20.000000          1\n",
       "3  2020-05-28  15.000000          1\n",
       "4  2020-05-29  15.000000          1\n",
       "5  2020-05-30  10.000000          1\n",
       "6  2020-06-01  27.166667          3\n",
       "7  2020-06-02  21.000000          3"
      ]
     },
     "execution_count": 5,
     "metadata": {},
     "output_type": "execute_result"
    }
   ],
   "source": [
    "# group the data based on the day\n",
    "g = raw_df.groupby(raw_df['ts'].dt.date)\n",
    "tdf = pd.DataFrame(columns=['ts', 'user_fee', 'total_user'])\n",
    "\n",
    "# create a new dataset that contains the day, average user fee and total user\n",
    "for k in g.groups.keys():\n",
    "    tdf = tdf.append({\n",
    "        'ts': k,\n",
    "        'user_fee': g.get_group(k).mean()['user_fee'],\n",
    "        'total_user': g.get_group(k).count()['user_id']\n",
    "    }, ignore_index=True)\n",
    "tdf"
   ]
  },
  {
   "cell_type": "code",
   "execution_count": 6,
   "metadata": {},
   "outputs": [
    {
     "data": {
      "text/plain": [
       "<matplotlib.axes._subplots.AxesSubplot at 0x11e185050>"
      ]
     },
     "execution_count": 6,
     "metadata": {},
     "output_type": "execute_result"
    },
    {
     "data": {
      "image/png": "[encoded data removed]",
      "text/plain": [
       "<Figure size 432x288 with 1 Axes>"
      ]
     },
     "metadata": {
      "needs_background": "light"
     },
     "output_type": "display_data"
    }
   ],
   "source": [
    "# plot the dataframe\n",
    "sns.scatterplot(data=tdf, x='total_user', y='user_fee')"
   ]
  },
  {
   "cell_type": "code",
   "execution_count": 7,
   "metadata": {},
   "outputs": [],
   "source": [
    "# define the X and Y\n",
    "X = tdf['total_user'].values.reshape(-1,1)\n",
    "y = tdf['user_fee']"
   ]
  },
  {
   "cell_type": "code",
   "execution_count": 8,
   "metadata": {},
   "outputs": [
    {
     "data": {
      "text/plain": [
       "LinearRegression(copy_X=True, fit_intercept=True, n_jobs=None, normalize=False)"
      ]
     },
     "execution_count": 8,
     "metadata": {},
     "output_type": "execute_result"
    }
   ],
   "source": [
    "from sklearn.linear_model import LinearRegression\n",
    "\n",
    "# train the linear model\n",
    "model = LinearRegression()\n",
    "model.fit(X, y)"
   ]
  },
  {
   "cell_type": "code",
   "execution_count": 9,
   "metadata": {},
   "outputs": [
    {
     "data": {
      "text/plain": [
       "[<matplotlib.lines.Line2D at 0x120bd0290>]"
      ]
     },
     "execution_count": 9,
     "metadata": {},
     "output_type": "execute_result"
    },
    {
     "data": {
      "image/png": "[encoded data removed]",
      "text/plain": [
       "<Figure size 432x288 with 1 Axes>"
      ]
     },
     "metadata": {
      "needs_background": "light"
     },
     "output_type": "display_data"
    }
   ],
   "source": [
    "# plot the actual data and the prediction\n",
    "plt.scatter(X, y)\n",
    "test_X = np.array(list(range(1, 15)))\n",
    "test_X = test_X.reshape(-1, 1)\n",
    "plt.plot(test_X, model.predict(test_X),color='k')"
   ]
  },
  {
   "cell_type": "code",
   "execution_count": 10,
   "metadata": {},
   "outputs": [
    {
     "data": {
      "text/html": [
       "<div>\n",
       "<style scoped>\n",
       "    .dataframe tbody tr th:only-of-type {\n",
       "        vertical-align: middle;\n",
       "    }\n",
       "\n",
       "    .dataframe tbody tr th {\n",
       "        vertical-align: top;\n",
       "    }\n",
       "\n",
       "    .dataframe thead th {\n",
       "        text-align: right;\n",
       "    }\n",
       "</style>\n",
       "<table border=\"1\" class=\"dataframe\">\n",
       "  <thead>\n",
       "    <tr style=\"text-align: right;\">\n",
       "      <th></th>\n",
       "      <th>user_id</th>\n",
       "      <th>ts</th>\n",
       "      <th>user_fee</th>\n",
       "      <th>day</th>\n",
       "    </tr>\n",
       "  </thead>\n",
       "  <tbody>\n",
       "    <tr>\n",
       "      <th>0</th>\n",
       "      <td>896.0</td>\n",
       "      <td>2020-05-26 14:48:10.734</td>\n",
       "      <td>24.0</td>\n",
       "      <td>Tuesday</td>\n",
       "    </tr>\n",
       "    <tr>\n",
       "      <th>1</th>\n",
       "      <td>3396.0</td>\n",
       "      <td>2020-05-29 15:34:04.000</td>\n",
       "      <td>15.0</td>\n",
       "      <td>Friday</td>\n",
       "    </tr>\n",
       "    <tr>\n",
       "      <th>2</th>\n",
       "      <td>1710.0</td>\n",
       "      <td>2020-06-02 03:24:00.000</td>\n",
       "      <td>21.0</td>\n",
       "      <td>Tuesday</td>\n",
       "    </tr>\n",
       "    <tr>\n",
       "      <th>3</th>\n",
       "      <td>96.0</td>\n",
       "      <td>2020-06-01 14:42:37.218</td>\n",
       "      <td>31.5</td>\n",
       "      <td>Monday</td>\n",
       "    </tr>\n",
       "    <tr>\n",
       "      <th>4</th>\n",
       "      <td>123.0</td>\n",
       "      <td>2020-05-27 17:19:41.000</td>\n",
       "      <td>20.0</td>\n",
       "      <td>Wednesday</td>\n",
       "    </tr>\n",
       "    <tr>\n",
       "      <th>5</th>\n",
       "      <td>6454.0</td>\n",
       "      <td>2020-05-26 13:37:36.258</td>\n",
       "      <td>22.0</td>\n",
       "      <td>Tuesday</td>\n",
       "    </tr>\n",
       "    <tr>\n",
       "      <th>6</th>\n",
       "      <td>4730.0</td>\n",
       "      <td>2020-05-25 12:11:51.264</td>\n",
       "      <td>17.0</td>\n",
       "      <td>Monday</td>\n",
       "    </tr>\n",
       "    <tr>\n",
       "      <th>7</th>\n",
       "      <td>987.0</td>\n",
       "      <td>2020-05-28 15:06:08.000</td>\n",
       "      <td>15.0</td>\n",
       "      <td>Thursday</td>\n",
       "    </tr>\n",
       "    <tr>\n",
       "      <th>8</th>\n",
       "      <td>1915.0</td>\n",
       "      <td>2020-06-02 12:23:33.000</td>\n",
       "      <td>21.0</td>\n",
       "      <td>Tuesday</td>\n",
       "    </tr>\n",
       "    <tr>\n",
       "      <th>9</th>\n",
       "      <td>1102.0</td>\n",
       "      <td>2020-06-01 13:58:41.450</td>\n",
       "      <td>22.0</td>\n",
       "      <td>Monday</td>\n",
       "    </tr>\n",
       "    <tr>\n",
       "      <th>10</th>\n",
       "      <td>2934.0</td>\n",
       "      <td>2020-05-30 13:00:15.988</td>\n",
       "      <td>10.0</td>\n",
       "      <td>Saturday</td>\n",
       "    </tr>\n",
       "    <tr>\n",
       "      <th>11</th>\n",
       "      <td>14623.0</td>\n",
       "      <td>2020-06-01 13:11:09.434</td>\n",
       "      <td>28.0</td>\n",
       "      <td>Monday</td>\n",
       "    </tr>\n",
       "    <tr>\n",
       "      <th>12</th>\n",
       "      <td>11041.0</td>\n",
       "      <td>2020-05-25 14:46:54.422</td>\n",
       "      <td>15.0</td>\n",
       "      <td>Monday</td>\n",
       "    </tr>\n",
       "    <tr>\n",
       "      <th>13</th>\n",
       "      <td>107.0</td>\n",
       "      <td>2020-05-26 12:15:01.558</td>\n",
       "      <td>15.0</td>\n",
       "      <td>Tuesday</td>\n",
       "    </tr>\n",
       "    <tr>\n",
       "      <th>14</th>\n",
       "      <td>8949.0</td>\n",
       "      <td>2020-05-26 13:45:31.946</td>\n",
       "      <td>22.0</td>\n",
       "      <td>Tuesday</td>\n",
       "    </tr>\n",
       "    <tr>\n",
       "      <th>15</th>\n",
       "      <td>1832.0</td>\n",
       "      <td>2020-06-02 10:39:38.000</td>\n",
       "      <td>21.0</td>\n",
       "      <td>Tuesday</td>\n",
       "    </tr>\n",
       "  </tbody>\n",
       "</table>\n",
       "</div>"
      ],
      "text/plain": [
       "    user_id                      ts  user_fee        day\n",
       "0     896.0 2020-05-26 14:48:10.734      24.0    Tuesday\n",
       "1    3396.0 2020-05-29 15:34:04.000      15.0     Friday\n",
       "2    1710.0 2020-06-02 03:24:00.000      21.0    Tuesday\n",
       "3      96.0 2020-06-01 14:42:37.218      31.5     Monday\n",
       "4     123.0 2020-05-27 17:19:41.000      20.0  Wednesday\n",
       "5    6454.0 2020-05-26 13:37:36.258      22.0    Tuesday\n",
       "6    4730.0 2020-05-25 12:11:51.264      17.0     Monday\n",
       "7     987.0 2020-05-28 15:06:08.000      15.0   Thursday\n",
       "8    1915.0 2020-06-02 12:23:33.000      21.0    Tuesday\n",
       "9    1102.0 2020-06-01 13:58:41.450      22.0     Monday\n",
       "10   2934.0 2020-05-30 13:00:15.988      10.0   Saturday\n",
       "11  14623.0 2020-06-01 13:11:09.434      28.0     Monday\n",
       "12  11041.0 2020-05-25 14:46:54.422      15.0     Monday\n",
       "13    107.0 2020-05-26 12:15:01.558      15.0    Tuesday\n",
       "14   8949.0 2020-05-26 13:45:31.946      22.0    Tuesday\n",
       "15   1832.0 2020-06-02 10:39:38.000      21.0    Tuesday"
      ]
     },
     "execution_count": 10,
     "metadata": {},
     "output_type": "execute_result"
    }
   ],
   "source": [
    "raw_df['ts'] = pd.to_datetime(raw_df['ts'])\n",
    "raw_df['day'] = raw_df['ts'].dt.weekday_name\n",
    "raw_df"
   ]
  },
  {
   "cell_type": "code",
   "execution_count": 11,
   "metadata": {},
   "outputs": [
    {
     "data": {
      "text/html": [
       "<div>\n",
       "<style scoped>\n",
       "    .dataframe tbody tr th:only-of-type {\n",
       "        vertical-align: middle;\n",
       "    }\n",
       "\n",
       "    .dataframe tbody tr th {\n",
       "        vertical-align: top;\n",
       "    }\n",
       "\n",
       "    .dataframe thead th {\n",
       "        text-align: right;\n",
       "    }\n",
       "</style>\n",
       "<table border=\"1\" class=\"dataframe\">\n",
       "  <thead>\n",
       "    <tr style=\"text-align: right;\">\n",
       "      <th></th>\n",
       "      <th>count</th>\n",
       "      <th>mean</th>\n",
       "      <th>std</th>\n",
       "      <th>min</th>\n",
       "      <th>25%</th>\n",
       "      <th>50%</th>\n",
       "      <th>75%</th>\n",
       "      <th>max</th>\n",
       "    </tr>\n",
       "    <tr>\n",
       "      <th>day</th>\n",
       "      <th></th>\n",
       "      <th></th>\n",
       "      <th></th>\n",
       "      <th></th>\n",
       "      <th></th>\n",
       "      <th></th>\n",
       "      <th></th>\n",
       "      <th></th>\n",
       "    </tr>\n",
       "  </thead>\n",
       "  <tbody>\n",
       "    <tr>\n",
       "      <th>Friday</th>\n",
       "      <td>1.0</td>\n",
       "      <td>15.000000</td>\n",
       "      <td>NaN</td>\n",
       "      <td>15.0</td>\n",
       "      <td>15.0</td>\n",
       "      <td>15.0</td>\n",
       "      <td>15.0</td>\n",
       "      <td>15.0</td>\n",
       "    </tr>\n",
       "    <tr>\n",
       "      <th>Monday</th>\n",
       "      <td>5.0</td>\n",
       "      <td>22.700000</td>\n",
       "      <td>7.032069</td>\n",
       "      <td>15.0</td>\n",
       "      <td>17.0</td>\n",
       "      <td>22.0</td>\n",
       "      <td>28.0</td>\n",
       "      <td>31.5</td>\n",
       "    </tr>\n",
       "    <tr>\n",
       "      <th>Saturday</th>\n",
       "      <td>1.0</td>\n",
       "      <td>10.000000</td>\n",
       "      <td>NaN</td>\n",
       "      <td>10.0</td>\n",
       "      <td>10.0</td>\n",
       "      <td>10.0</td>\n",
       "      <td>10.0</td>\n",
       "      <td>10.0</td>\n",
       "    </tr>\n",
       "    <tr>\n",
       "      <th>Thursday</th>\n",
       "      <td>1.0</td>\n",
       "      <td>15.000000</td>\n",
       "      <td>NaN</td>\n",
       "      <td>15.0</td>\n",
       "      <td>15.0</td>\n",
       "      <td>15.0</td>\n",
       "      <td>15.0</td>\n",
       "      <td>15.0</td>\n",
       "    </tr>\n",
       "    <tr>\n",
       "      <th>Tuesday</th>\n",
       "      <td>7.0</td>\n",
       "      <td>20.857143</td>\n",
       "      <td>2.794553</td>\n",
       "      <td>15.0</td>\n",
       "      <td>21.0</td>\n",
       "      <td>21.0</td>\n",
       "      <td>22.0</td>\n",
       "      <td>24.0</td>\n",
       "    </tr>\n",
       "    <tr>\n",
       "      <th>Wednesday</th>\n",
       "      <td>1.0</td>\n",
       "      <td>20.000000</td>\n",
       "      <td>NaN</td>\n",
       "      <td>20.0</td>\n",
       "      <td>20.0</td>\n",
       "      <td>20.0</td>\n",
       "      <td>20.0</td>\n",
       "      <td>20.0</td>\n",
       "    </tr>\n",
       "  </tbody>\n",
       "</table>\n",
       "</div>"
      ],
      "text/plain": [
       "           count       mean       std   min   25%   50%   75%   max\n",
       "day                                                                \n",
       "Friday       1.0  15.000000       NaN  15.0  15.0  15.0  15.0  15.0\n",
       "Monday       5.0  22.700000  7.032069  15.0  17.0  22.0  28.0  31.5\n",
       "Saturday     1.0  10.000000       NaN  10.0  10.0  10.0  10.0  10.0\n",
       "Thursday     1.0  15.000000       NaN  15.0  15.0  15.0  15.0  15.0\n",
       "Tuesday      7.0  20.857143  2.794553  15.0  21.0  21.0  22.0  24.0\n",
       "Wednesday    1.0  20.000000       NaN  20.0  20.0  20.0  20.0  20.0"
      ]
     },
     "execution_count": 11,
     "metadata": {},
     "output_type": "execute_result"
    }
   ],
   "source": [
    "raw_df.groupby('day')['user_fee'].describe()"
   ]
  },
  {
   "cell_type": "code",
   "execution_count": 12,
   "metadata": {},
   "outputs": [
    {
     "data": {
      "text/plain": [
       "<matplotlib.axes._subplots.AxesSubplot at 0x120bffa90>"
      ]
     },
     "execution_count": 12,
     "metadata": {},
     "output_type": "execute_result"
    },
    {
     "data": {
      "image/png": "[encoded data removed]",
      "text/plain": [
       "<Figure size 432x288 with 1 Axes>"
      ]
     },
     "metadata": {
      "needs_background": "light"
     },
     "output_type": "display_data"
    }
   ],
   "source": [
    "sns.boxplot(data=raw_df, x=\"day\", y=\"user_fee\")"
   ]
  },
  {
   "cell_type": "code",
   "execution_count": 13,
   "metadata": {},
   "outputs": [
    {
     "name": "stdout",
     "output_type": "stream",
     "text": [
      "Variance for consumable items: 49.45\n",
      "Variance for non-consumable items: 7.809523809523811\n"
     ]
    }
   ],
   "source": [
    "from scipy import stats\n",
    "\n",
    "print('Variance for consumable items:', stats.tvar(raw_df[raw_df['day'] == 'Monday']['user_fee']))\n",
    "print('Variance for non-consumable items:', stats.tvar(raw_df[raw_df['day'] == 'Tuesday']['user_fee']))"
   ]
  },
  {
   "cell_type": "code",
   "execution_count": 15,
   "metadata": {},
   "outputs": [
    {
     "name": "stdout",
     "output_type": "stream",
     "text": [
      "p-value:  0.6029019044576913\n"
     ]
    }
   ],
   "source": [
    "monday = raw_df[raw_df['day'] == 'Monday']['user_fee']\n",
    "tuesday = raw_df[raw_df['day'] == 'Tuesday']['user_fee']\n",
    "\n",
    "s, p_val = stats.ttest_ind(monday, tuesday, equal_var=False)\n",
    "print('p-value: ', p_val)"
   ]
  },
  {
   "cell_type": "code",
   "execution_count": null,
   "metadata": {},
   "outputs": [],
   "source": []
  }
 ],
 "metadata": {
  "kernelspec": {
   "display_name": "Python 3",
   "language": "python",
   "name": "python3"
  },
  "language_info": {
   "codemirror_mode": {
    "name": "ipython",
    "version": 3
   },
   "file_extension": ".py",
   "mimetype": "text/x-python",
   "name": "python",
   "nbconvert_exporter": "python",
   "pygments_lexer": "ipython3",
   "version": "3.7.6"
  }
 },
 "nbformat": 4,
 "nbformat_minor": 2
}
