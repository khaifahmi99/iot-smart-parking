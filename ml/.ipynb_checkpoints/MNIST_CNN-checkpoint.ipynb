{
 "cells": [
  {
   "cell_type": "code",
   "execution_count": 1,
   "metadata": {
    "colab": {
     "base_uri": "https://localhost:8080/",
     "height": 88
    },
    "colab_type": "code",
    "id": "M90GFtyOtFlF",
    "outputId": "ba504584-14bb-4c0b-c8d3-f617a4222247"
   },
   "outputs": [
    {
     "name": "stderr",
     "output_type": "stream",
     "text": [
      "Using TensorFlow backend.\n",
      "/usr/local/lib/python3.6/dist-packages/statsmodels/tools/_testing.py:19: FutureWarning: pandas.util.testing is deprecated. Use the functions in the public API at pandas.testing instead.\n",
      "  import pandas.util.testing as tm\n"
     ]
    }
   ],
   "source": [
    "# import all modules needed\n",
    "from keras.datasets import mnist\n",
    "import matplotlib.pyplot as plt\n",
    "import seaborn as sns\n",
    "import numpy as np\n",
    "import pandas as pd\n",
    "\n",
    "%matplotlib inline"
   ]
  },
  {
   "cell_type": "code",
   "execution_count": 2,
   "metadata": {
    "colab": {
     "base_uri": "https://localhost:8080/",
     "height": 119
    },
    "colab_type": "code",
    "id": "CsHfwhKUtPqK",
    "outputId": "4836c3b0-4d57-4cb8-a9ec-07b6e4c190f5"
   },
   "outputs": [
    {
     "name": "stdout",
     "output_type": "stream",
     "text": [
      "Downloading data from https://s3.amazonaws.com/img-datasets/mnist.npz\n",
      "11493376/11490434 [==============================] - 1s 0us/step\n",
      "train X shape: (60000, 28, 28)\n",
      "test X shape: (10000, 28, 28)\n",
      "train y shape: (60000,)\n",
      "test y shape: (10000,)\n"
     ]
    }
   ],
   "source": [
    "# grab train and test data from mnist dataset\n",
    "(train_X, train_y), (test_X, test_y) = mnist.load_data()\n",
    "\n",
    "# checkout the dataset dimension\n",
    "print('train X shape:', train_X.shape)\n",
    "print('test X shape:', test_X.shape)\n",
    "print('train y shape:', train_y.shape)\n",
    "print('test y shape:', test_y.shape)"
   ]
  },
  {
   "cell_type": "code",
   "execution_count": 3,
   "metadata": {
    "colab": {
     "base_uri": "https://localhost:8080/",
     "height": 282
    },
    "colab_type": "code",
    "id": "7D-I64Vxtik6",
    "outputId": "805c2bdf-fc4d-489a-dd51-380b72053a0e"
   },
   "outputs": [
    {
     "name": "stdout",
     "output_type": "stream",
     "text": [
      "Label:  5\n"
     ]
    },
    {
     "data": {
      "image/png": "[encoded data removed]",
      "text/plain": [
       "<Figure size 432x288 with 1 Axes>"
      ]
     },
     "metadata": {
      "needs_background": "light",
      "tags": []
     },
     "output_type": "display_data"
    }
   ],
   "source": [
    "# look into one of the dataset and corresponding label\n",
    "plt.imshow(train_X[0], cmap=plt.get_cmap('gray'))\n",
    "print('Label: ', train_y[0])"
   ]
  },
  {
   "cell_type": "code",
   "execution_count": 4,
   "metadata": {
    "colab": {
     "base_uri": "https://localhost:8080/",
     "height": 34
    },
    "colab_type": "code",
    "id": "s2KIRC5ltpOG",
    "outputId": "6f2f7764-0ef2-40dd-a945-ab6a46a4a3d3"
   },
   "outputs": [
    {
     "name": "stdout",
     "output_type": "stream",
     "text": [
      "(60000, 28, 28, 1)\n"
     ]
    }
   ],
   "source": [
    "# reshape the shape of trainX and testX to fit in the model\n",
    "# 28x28 for the width x height of pic\n",
    "# 1 color channel (greyscale)\n",
    "train_X = train_X.reshape((train_X.shape[0], 28, 28, 1))\n",
    "test_X = test_X.reshape((test_X.shape[0], 28, 28, 1))\n",
    "\n",
    "# Dimension of trainX after reshape\n",
    "print(train_X.shape)"
   ]
  },
  {
   "cell_type": "code",
   "execution_count": 0,
   "metadata": {
    "colab": {},
    "colab_type": "code",
    "id": "VpcdAFEFuwym"
   },
   "outputs": [],
   "source": [
    "from keras.utils import to_categorical\n",
    "\n",
    "# convert label to one-hot encoding\n",
    "# array of length 10 (10 labels)\n",
    "train_y = to_categorical(train_y)\n",
    "test_y = to_categorical(test_y)"
   ]
  },
  {
   "cell_type": "code",
   "execution_count": 0,
   "metadata": {
    "colab": {},
    "colab_type": "code",
    "id": "DTJXGDQIu79E"
   },
   "outputs": [],
   "source": [
    "# normalize data from 0-255 to 0-1\n",
    "# speed up the training process\n",
    "train_X = train_X.astype('float32') / 255\n",
    "test_X = test_X.astype('float32') / 255"
   ]
  },
  {
   "cell_type": "code",
   "execution_count": 7,
   "metadata": {
    "colab": {
     "base_uri": "https://localhost:8080/",
     "height": 323
    },
    "colab_type": "code",
    "id": "-zhquOQnvdk8",
    "outputId": "15c39ec4-1aae-449e-d12c-d18d39f692a8"
   },
   "outputs": [
    {
     "name": "stdout",
     "output_type": "stream",
     "text": [
      "Model: \"sequential_1\"\n",
      "_________________________________________________________________\n",
      "Layer (type)                 Output Shape              Param #   \n",
      "=================================================================\n",
      "conv2d_1 (Conv2D)            (None, 26, 26, 32)        320       \n",
      "_________________________________________________________________\n",
      "max_pooling2d_1 (MaxPooling2 (None, 13, 13, 32)        0         \n",
      "_________________________________________________________________\n",
      "flatten_1 (Flatten)          (None, 5408)              0         \n",
      "_________________________________________________________________\n",
      "dense_1 (Dense)              (None, 128)               692352    \n",
      "_________________________________________________________________\n",
      "dense_2 (Dense)              (None, 10)                1290      \n",
      "=================================================================\n",
      "Total params: 693,962\n",
      "Trainable params: 693,962\n",
      "Non-trainable params: 0\n",
      "_________________________________________________________________\n"
     ]
    }
   ],
   "source": [
    "from keras.models import Sequential\n",
    "from keras.layers import Conv2D, MaxPooling2D, Flatten, Dense\n",
    "from keras.optimizers import Adam\n",
    "\n",
    "# define model\n",
    "model = Sequential()\n",
    "model.add(Conv2D(32, (3, 3), activation='relu', input_shape=(28, 28, 1)))\n",
    "model.add(MaxPooling2D((2, 2)))\n",
    "model.add(Flatten())\n",
    "model.add(Dense(128, activation='relu'))\n",
    "model.add(Dense(10, activation='softmax'))\n",
    "\n",
    "optimizer = Adam(lr=0.0001)\n",
    "\n",
    "model.compile(optimizer=optimizer, loss='categorical_crossentropy', metrics=['accuracy'])\n",
    "model.summary()"
   ]
  },
  {
   "cell_type": "code",
   "execution_count": 8,
   "metadata": {
    "colab": {
     "base_uri": "https://localhost:8080/",
     "height": 391
    },
    "colab_type": "code",
    "id": "3e9J_u0JxJZ-",
    "outputId": "e8d8cfb9-bf03-4543-bb3c-d893948586d2"
   },
   "outputs": [
    {
     "name": "stdout",
     "output_type": "stream",
     "text": [
      "Train on 42000 samples, validate on 18000 samples\n",
      "Epoch 1/10\n",
      "42000/42000 [==============================] - 13s 320us/step - loss: 0.4500 - accuracy: 0.8869 - val_loss: 0.2359 - val_accuracy: 0.9323\n",
      "Epoch 2/10\n",
      "42000/42000 [==============================] - 7s 174us/step - loss: 0.1961 - accuracy: 0.9430 - val_loss: 0.1754 - val_accuracy: 0.9502\n",
      "Epoch 3/10\n",
      "42000/42000 [==============================] - 7s 178us/step - loss: 0.1425 - accuracy: 0.9591 - val_loss: 0.1330 - val_accuracy: 0.9616\n",
      "Epoch 4/10\n",
      "42000/42000 [==============================] - 7s 170us/step - loss: 0.1106 - accuracy: 0.9692 - val_loss: 0.1146 - val_accuracy: 0.9673\n",
      "Epoch 5/10\n",
      "42000/42000 [==============================] - 7s 174us/step - loss: 0.0904 - accuracy: 0.9755 - val_loss: 0.1018 - val_accuracy: 0.9695\n",
      "Epoch 6/10\n",
      "42000/42000 [==============================] - 7s 175us/step - loss: 0.0766 - accuracy: 0.9790 - val_loss: 0.0952 - val_accuracy: 0.9724\n",
      "Epoch 7/10\n",
      "42000/42000 [==============================] - 7s 166us/step - loss: 0.0656 - accuracy: 0.9822 - val_loss: 0.0812 - val_accuracy: 0.9759\n",
      "Epoch 8/10\n",
      "42000/42000 [==============================] - 7s 176us/step - loss: 0.0571 - accuracy: 0.9841 - val_loss: 0.0764 - val_accuracy: 0.9776\n",
      "Epoch 9/10\n",
      "42000/42000 [==============================] - 7s 167us/step - loss: 0.0494 - accuracy: 0.9860 - val_loss: 0.0742 - val_accuracy: 0.9777\n",
      "Epoch 10/10\n",
      "42000/42000 [==============================] - 7s 166us/step - loss: 0.0437 - accuracy: 0.9880 - val_loss: 0.0726 - val_accuracy: 0.9785\n"
     ]
    },
    {
     "data": {
      "text/plain": [
       "<keras.callbacks.callbacks.History at 0x7f0ff85e3f60>"
      ]
     },
     "execution_count": 8,
     "metadata": {
      "tags": []
     },
     "output_type": "execute_result"
    }
   ],
   "source": [
    "# train model with 0.3 split for validation\n",
    "model.fit(train_X, train_y, epochs=10, validation_split=0.3)"
   ]
  },
  {
   "cell_type": "code",
   "execution_count": 9,
   "metadata": {
    "colab": {
     "base_uri": "https://localhost:8080/",
     "height": 621
    },
    "colab_type": "code",
    "id": "Eknzc6KUyF7f",
    "outputId": "90b4f00d-b1b6-4a03-a8cf-e39fece0a396"
   },
   "outputs": [
    {
     "data": {
      "image/png": "[encoded data removed]",
      "text/plain": [
       "<Figure size 1440x720 with 2 Axes>"
      ]
     },
     "metadata": {
      "needs_background": "light",
      "tags": []
     },
     "output_type": "display_data"
    }
   ],
   "source": [
    "epochs = [i for i in range(10)]\n",
    "fig , ax = plt.subplots(1,2)\n",
    "train_acc = model.history.history['accuracy']\n",
    "train_loss = model.history.history['loss']\n",
    "val_acc = model.history.history['val_accuracy']\n",
    "val_loss = model.history.history['val_loss']\n",
    "fig.set_size_inches(20,10)\n",
    "\n",
    "# plot the model training and testing accuracy in each epoch\n",
    "ax[0].plot(epochs , train_acc , 'go-' , label = 'Training Accuracy')\n",
    "ax[0].plot(epochs , val_acc , 'ro-' , label = 'Testing Accuracy')\n",
    "ax[0].set_title('Training & Validation Accuracy')\n",
    "ax[0].legend()\n",
    "ax[0].set_xlabel(\"Epochs\")\n",
    "ax[0].set_ylabel(\"Accuracy\")\n",
    "\n",
    "# plot the model training and testing loss in each epoch\n",
    "ax[1].plot(epochs , train_loss , 'g-o' , label = 'Training Loss')\n",
    "ax[1].plot(epochs , val_loss , 'r-o' , label = 'Testing Loss')\n",
    "ax[1].set_title('Testing Accuracy & Loss')\n",
    "ax[1].legend()\n",
    "ax[1].set_xlabel(\"Epochs\")\n",
    "ax[1].set_ylabel(\"Loss\")\n",
    "plt.show()"
   ]
  },
  {
   "cell_type": "code",
   "execution_count": 10,
   "metadata": {
    "colab": {
     "base_uri": "https://localhost:8080/",
     "height": 85
    },
    "colab_type": "code",
    "id": "_XQTcdbUyPR_",
    "outputId": "8dd091af-8879-4b89-f440-d2ee850c5540"
   },
   "outputs": [
    {
     "name": "stdout",
     "output_type": "stream",
     "text": [
      "10000/10000 [==============================] - 1s 73us/step\n",
      "Loss of the model is -  0.06047497893394902 %\n",
      "10000/10000 [==============================] - 1s 72us/step\n",
      "Accuracy of the model is -  98.01999926567078 %\n"
     ]
    }
   ],
   "source": [
    "# Evaluate model on testing dataset\n",
    "print(\"Loss of the model is - \" , model.evaluate(test_X, test_y)[0] , \"%\")\n",
    "print(\"Accuracy of the model is - \" , model.evaluate(test_X, test_y)[1]*100 , \"%\")"
   ]
  },
  {
   "cell_type": "code",
   "execution_count": 0,
   "metadata": {
    "colab": {},
    "colab_type": "code",
    "id": "oeqqvJNpobSb"
   },
   "outputs": [],
   "source": [
    "# convert one-hot encoding to label\n",
    "class_y = [np.argmax(y, axis=None, out=None) for y in test_y]"
   ]
  },
  {
   "cell_type": "code",
   "execution_count": 12,
   "metadata": {
    "colab": {
     "base_uri": "https://localhost:8080/",
     "height": 187
    },
    "colab_type": "code",
    "id": "hoCtHtIPybdD",
    "outputId": "f7be9870-eba2-42f5-fc1f-887b5fe0525f"
   },
   "outputs": [
    {
     "data": {
      "text/plain": [
       "array([[ 972,    0,    0,    0,    0,    1,    2,    3,    2,    0],\n",
       "       [   0, 1122,    5,    0,    0,    0,    3,    2,    3,    0],\n",
       "       [   5,    1, 1000,    4,    1,    0,    2,    9,   10,    0],\n",
       "       [   1,    0,    1,  988,    0,    5,    0,    5,    7,    3],\n",
       "       [   0,    0,    1,    0,  976,    0,    1,    0,    2,    2],\n",
       "       [   2,    0,    0,    8,    0,  869,    7,    0,    5,    1],\n",
       "       [   8,    2,    1,    0,    2,    3,  938,    0,    4,    0],\n",
       "       [   0,    2,    9,    2,    0,    1,    0, 1008,    4,    2],\n",
       "       [   4,    0,    2,    3,    3,    1,    0,    7,  950,    4],\n",
       "       [   4,    0,    0,    3,   12,    1,    0,    8,    2,  979]])"
      ]
     },
     "execution_count": 12,
     "metadata": {
      "tags": []
     },
     "output_type": "execute_result"
    }
   ],
   "source": [
    "from sklearn.metrics import confusion_matrix\n",
    "\n",
    "# confusion matrix to show the models prediction against true label\n",
    "cm = confusion_matrix(class_y, model.predict_classes(test_X))\n",
    "cm"
   ]
  },
  {
   "cell_type": "code",
   "execution_count": 0,
   "metadata": {
    "colab": {},
    "colab_type": "code",
    "id": "GWdHqsGhyiWy"
   },
   "outputs": [],
   "source": []
  }
 ],
 "metadata": {
  "accelerator": "GPU",
  "colab": {
   "collapsed_sections": [],
   "name": "MNIST-CNN.ipynb",
   "provenance": []
  },
  "kernelspec": {
   "display_name": "Python 3",
   "language": "python",
   "name": "python3"
  },
  "language_info": {
   "codemirror_mode": {
    "name": "ipython",
    "version": 3
   },
   "file_extension": ".py",
   "mimetype": "text/x-python",
   "name": "python",
   "nbconvert_exporter": "python",
   "pygments_lexer": "ipython3",
   "version": "3.7.6"
  }
 },
 "nbformat": 4,
 "nbformat_minor": 1
}
